{
 "cells": [
 
  {
   "cell_type": "markdown",
   "id": "95c42381",
   "metadata": {},
   "source": [
    "# Plantillas y Expresiones Regulares"
   ]
  },
  {
   "cell_type": "markdown",
   "id": "8fcc0242",
   "metadata": {},
   "source": [
    "Lo primero que escribimos en nuestro código son todas las bibliotecas y funciones especiales que vamos a necesitar para la resolución de la práctica, que son \"re\" y \"string\".  \n",
    "\n",
    "Seguidamente, abrimos el documento \"Correos.txt\" que contiene la información necesaria para realizar el ejercicio. Utilizamos el atributo \"encoding='cp1252' porque sabemos que el archivo ha sido creado en un Windows. Además, separaremos nuestro archivo en líneas.  \n",
    "\n"
   ]
  },
  {
   "cell_type": "code",
   "execution_count": 454,
   "id": "97148ef3",
   "metadata": {},
   "outputs": [],
   "source": [
    "import re \n",
    "import string\n",
    "\n",
    "archivo= open('Correo.txt', 'r',encoding='cp1252')\n",
    "texto_string=open('Correo.txt', 'r', encoding='cp1252').read()\n",
    "lineas=archivo.read().splitlines() #separamos el archivo en lineas \n",
    "\n"
   ]
  },
  {
   "cell_type": "markdown",
   "id": "1e9fa03b",
   "metadata": {},
   "source": [
    "Ahora, compilamos la expresión regular que vamos a utilizar para realizar la búsqueda de los datos que necesitamos. Queremos buscar aquellas líneas que empiecen con \"From:\", \"To:\" y \"CC:\", pero como no queremos incluir \"El Profe\", pues ponemos la condición mediante una aserción de anticipación negativa, de que el patrón buscado no esté seguido de \"El Profe\". Como al utilizar \"VERBOSE\" los espacios en blanco son ignorados, tenemos que especificarlos con \\s.  "
   ]
  },
  {
   "cell_type": "code",
   "execution_count": 455,
   "id": "f1180808",
   "metadata": {
    "scrolled": true
   },
   "outputs": [],
   "source": [
    "patrón = re.compile(r'''\n",
    "        From:\\s(?!El\\sProfe)   #buscamos las líneas que empiezan por From: \n",
    "        |To:\\s(?!El\\sProfe)   #buscamos las líneas que empiezan por To: \n",
    "        |CC:\\s(?!El\\sProfe)  #buscamos las líneas que empiezan por CC: \n",
    "    \n",
    "            ''', re.VERBOSE)\n"
   ]
  },
  {
   "cell_type": "markdown",
   "id": "dd897bec",
   "metadata": {},
   "source": [
    "Ahora creamos la lista vacía \"lista_datos\". Utilizando un bucle for, vamos a ir añadiendo a nuestra lista vacía aquellas líneas de la lista creada anteriormente \"lineas\" que cumplan la condición de nuestra expresión regular compilada \"patrón\" (y aquellas que no cumplan la condición y que la función \"match()\" resulte en \"None\", no se añaden a la lista). Al finalizar el bucle, imprimimos la lista \"lista_profe\" y verificamos que obtenemos una lista en la que cada línea empieza con \"From: \", \"To: \" o \"CC: \", que eran los datos que queríamos extraer de nuestra lista inicial."
   ]
  },
  {
   "cell_type": "code",
   "execution_count": 456,
   "id": "1e5b2e2b",
   "metadata": {},
   "outputs": [
    {
     "name": "stdout",
     "output_type": "stream",
     "text": [
      "['To: Donald Duck <donald@personajes.com>', 'CC: Mickey Mouse <mickey@personajes.com>', 'To: Blad el Empalador <blad@chupeton.org>', 'CC: Odiseo <odiseo@heroes.comomolo.com>', 'To: Obélix el Galo <obelix@lagalia.org>', 'CC: Astérix el Galo <asterix@lagalia.org>', 'From: Alonso Quijano el Bueno <quijote@caballeros.andantes.net>', 'From: Capitán Nemo <nemo@nautilus.com>', 'CC: Rasputín <rasputin@conspiration.com>', 'From: Donald Duck <donald@personajes.com>', 'CC: Mickey Mouse <mickey@personajes.com>', \"From: D'Artagnan <d'artagnan@los.mosqueteros.net>\", 'CC: Rasputín <rasputin@conspiration.com>', 'From: Obélix el Galo <obelix@lagalia.org>', 'CC: Astérix el Galo <asterix@lagalia.org>', 'From: Astérix el Galo <asterix@lagalia.org>', 'CC: Obélix el Galo <obelix@lagalia.org>', 'To: Capitán Nemo <nemo@nautilus.com>', 'CC: Rasputín <rasputin@conspiration.com>', 'To: Donald Duck <donald@personajes.com>', 'CC: Mickey Mouse <mickey@personajes.com>', 'To: Obélix el Galo <obelix@lagalia.org>', 'CC: Astérix el Galo <asterix@lagalia.org>', 'From: Obélix el Galo <obelix@lagalia.org>', 'CC: Astérix el Galo <asterix@lagalia.org>', 'From: Capitán Nemo <nemo@nautilus.com>', 'CC: Rasputín <rasputin@conspiration.com>', 'From: Obélix el Galo <obelix@lagalia.org>', 'CC: Astérix el Galo <asterix@lagalia.org>', 'From: Capitán Nemo <nemo@nautilus.com>', 'To: Donald Duck <donald@personajes.com>', 'To: Alonso Quijano el Bueno <quijote@caballeros.andantes.net>', 'From: Obélix el Galo <obelix@lagalia.org>', 'CC: Astérix el Galo <asterix@lagalia.org>', 'From: Obélix el Galo <obelix@lagalia.org>', 'CC: Astérix el Galo <asterix@lagalia.org>', 'To: Capitán Nemo <nemo@nautilus.com>', 'From: Alonso Quijano el Bueno <quijote@caballeros.andantes.net>', 'From: Blad el Empalador <blad@chupeton.org>', \"To: D'Artagnan <d'artagnan@los.mosqueteros.net>\", 'CC: Rasputín <rasputin@conspiration.com>', 'To: Alonso Quijano el Bueno <quijote@caballeros.andantes.net>', 'To: Blad el Empalador <blad@chupeton.org>', 'To: Obélix el Galo <obelix@lagalia.org>', 'CC: Astérix el Galo <asterix@lagalia.org>', \"To: D'Artagnan <d'artagnan@los.mosqueteros.net>\", 'CC: Rasputín <rasputin@conspiration.com>', 'From: Alonso Quijano el Bueno <quijote@caballeros.andantes.net>', 'From: Obélix el Galo <obelix@lagalia.org>', 'CC: Astérix el Galo <asterix@lagalia.org>', 'To: Capitán Nemo <nemo@nautilus.com>', 'From: Obélix el Galo <obelix@lagalia.org>', 'CC: Astérix el Galo <asterix@lagalia.org>', 'From: Odiseo <odiseo@heroes.comomolo.com>', 'To: Blad el Empalador <blad@chupeton.org>', 'From: Rasputín <rasputin@conspiration.com>', 'To: Alonso Quijano el Bueno <quijote@caballeros.andantes.net>']\n"
     ]
    }
   ],
   "source": [
    "lista_datos= []\n",
    "\n",
    "for linea in lineas:\n",
    "    match=patrón.match(linea)  #las lineas que empiecen con ese patron las añadimos a una lista \n",
    "    if match!=None:\n",
    "        lista_datos.append(linea)\n",
    "        \n",
    "print(lista_datos)"
   ]
  },
  {
   "cell_type": "markdown",
   "id": "dd99e840",
   "metadata": {},
   "source": [
    "Ahora, vamos a separar nuestra lista haciendo uso de la función split. Compilamos la expresión regular que nos permitirá definir los delimitadores para separar la lista : y <>, ya que queremos separar la \"From:\"/\"To:\"/\"CC:\" del nombre y del correo electrónico, que viene delimitado por <>. \n",
    "Seguidamente, eliminamos la primera columna de nuestra lista, es decir, j[0] ya que no nos interesa la información proporcionada por esta columna, y así podemos eliminar aquellas filas que contengan el mismo nombre y correo electrónico para no tener nombres repetidos. Esto lo haremos creando una lista vacía \"lista_def\", a la que iremos añadiendo filas que no sean repetidas con un bucle for."
   ]
  },
  {
   "cell_type": "code",
   "execution_count": 457,
   "id": "8505c010",
   "metadata": {},
   "outputs": [
    {
     "name": "stdout",
     "output_type": "stream",
     "text": [
      "10\n"
     ]
    }
   ],
   "source": [
    "simbolos = re.compile(r\"\"\"\n",
    "        [:<>] #queremos separar cada línea de la lista con los delimitadores : y <>\n",
    "        \"\"\", re.VERBOSE)\n",
    "\n",
    "lista_final=[]\n",
    "\n",
    "for linea in lista_datos:\n",
    "    variable=simbolos.split(linea)\n",
    "    lista_final.append(variable)\n",
    "    \n",
    "\n",
    "\n",
    "for j in lista_final: #eliminamos la primera columna de cada fila de nuestra lista \n",
    "    del j[0]\n",
    "    \n",
    "lista_def=[]  #creamos una lista vacía donde iremos almacenando las entradas no repetidas \n",
    "for linea in lista_final:\n",
    "    if linea not in lista_def:\n",
    "        lista_def.append(linea)\n",
    "\n",
    "print(len(lista_def)) #imprimimos la longitud de la lista para confirmar que es 10\n",
    "                      #ya que tenemos que tener 10 entradas diferentes en nuestra futura plantilla \n"
   ]
  },
  {
   "cell_type": "markdown",
   "id": "40a1660d",
   "metadata": {},
   "source": [
    "Ahora definimos nuestra plantilla \"Plantilla\", que consistirá en dos columnas, una para el \"Nombre\" y otra para la \"Dirección\". \n",
    "Luego haremos un uso de la sentencia \"for\" para imprimir en la pantalla nuestra plantilla con los correspondientes datos importados de la lista que habíamos creado con los nombres y los correos electrónicos \"lista_def\". Utilizamos la función \"safe_substitute( )\" para evitar cualquier error. "
   ]
  },
  {
   "cell_type": "code",
   "execution_count": 453,
   "id": "3324d3ef",
   "metadata": {},
   "outputs": [
    {
     "name": "stdout",
     "output_type": "stream",
     "text": [
      "\n",
      "  Nombre: Donald Duck   Dirección:donald@personajes.com\n",
      "\n",
      "\n",
      "  Nombre: Mickey Mouse   Dirección:mickey@personajes.com\n",
      "\n",
      "\n",
      "  Nombre: Blad el Empalador   Dirección:blad@chupeton.org\n",
      "\n",
      "\n",
      "  Nombre: Odiseo   Dirección:odiseo@heroes.comomolo.com\n",
      "\n",
      "\n",
      "  Nombre: Obélix el Galo   Dirección:obelix@lagalia.org\n",
      "\n",
      "\n",
      "  Nombre: Astérix el Galo   Dirección:asterix@lagalia.org\n",
      "\n",
      "\n",
      "  Nombre: Alonso Quijano el Bueno   Dirección:quijote@caballeros.andantes.net\n",
      "\n",
      "\n",
      "  Nombre: Capitán Nemo   Dirección:nemo@nautilus.com\n",
      "\n",
      "\n",
      "  Nombre: Rasputín   Dirección:rasputin@conspiration.com\n",
      "\n",
      "\n",
      "  Nombre: D'Artagnan   Dirección:d'artagnan@los.mosqueteros.net\n",
      "\n"
     ]
    }
   ],
   "source": [
    "class Plantilla(string.Template):\n",
    "    delimiter = '%'             # utilizamos el delimitador '%'\n",
    "    idpattern = '[a-z]+' # cualquier valor de a-z\n",
    "\n",
    "texto_plantilla = '''\n",
    "  Nombre:%nombre  Dirección:%correo\n",
    "'''\n",
    "\n",
    "for i in lista_def:\n",
    "    datos= {\n",
    "        'nombre': i[0],\n",
    "        'correo': i[1]\n",
    "    }\n",
    "    s = Plantilla(texto_plantilla)\n",
    "    print(s.safe_substitute(datos))"
   ]
  },
  {
   "cell_type": "markdown",
   "id": "160f7b63",
   "metadata": {},
   "source": [
    "Como podemos observar, hemos obtenido los datos pedidos por el enunciado en nuestra pantalla. "
   ]
  }
 ],
 "metadata": {
  "kernelspec": {
   "display_name": "Python 3 (ipykernel)",
   "language": "python",
   "name": "python3"
  },
  "language_info": {
   "codemirror_mode": {
    "name": "ipython",
    "version": 3
   },
   "file_extension": ".py",
   "mimetype": "text/x-python",
   "name": "python",
   "nbconvert_exporter": "python",
   "pygments_lexer": "ipython3",
   "version": "3.9.13"
  }
 },
 "nbformat": 4,
 "nbformat_minor": 5
}
